{
  "nbformat": 4,
  "nbformat_minor": 0,
  "metadata": {
    "colab": {
      "provenance": [],
      "authorship_tag": "ABX9TyP+AB/cF1X2Na4oqIpdtawC",
      "include_colab_link": true
    },
    "kernelspec": {
      "name": "python3",
      "display_name": "Python 3"
    },
    "language_info": {
      "name": "python"
    }
  },
  "cells": [
    {
      "cell_type": "markdown",
      "metadata": {
        "id": "view-in-github",
        "colab_type": "text"
      },
      "source": [
        "<a href=\"https://colab.research.google.com/github/vatsal-py-lab/py-learn/blob/main/python_basics.ipynb\" target=\"_parent\"><img src=\"https://colab.research.google.com/assets/colab-badge.svg\" alt=\"Open In Colab\"/></a>"
      ]
    },
    {
      "cell_type": "markdown",
      "source": [
        "# **Introduction to Python**\n",
        "\n",
        "Python is a programming language created by Guido van Rossum and released in 1991.\n",
        "\n",
        "Syntax is simple and closely resembles everyday English, making it easy to read, write and learn. It is versatile and widely used in fields like web development, data science, and AI.\n",
        "\n",
        "Its rich libraries, strong community, and cross-platform support make coding faster, simpler, and powerful for building almost anything."
      ],
      "metadata": {
        "id": "m9JP6rcJxLsZ"
      }
    },
    {
      "cell_type": "markdown",
      "source": [
        "Before moving forward, it’s important to understand how to write and run Python code, including:\n",
        "\n",
        "1. **Comments**\n",
        "\n",
        "   * Single-line comments use `#`.\n",
        "   * Multi-line comments use triple quotes `\"\"\" \"\"\"` or `''' '''`.\n",
        "\n",
        "2. **Indentation and Code Blocks**\n",
        "\n",
        "   * Python uses indentation (spaces or tabs) to define blocks of code, such as those under loops, functions, or conditionals.\n",
        "   * Proper indentation is essential; incorrect indentation will cause errors."
      ],
      "metadata": {
        "id": "hEcZ892yzrRD"
      }
    },
    {
      "cell_type": "markdown",
      "source": [
        "# **Variables**\n",
        "\n",
        "Variables are containers for storing data values.\n",
        "\n"
      ],
      "metadata": {
        "id": "2JkHS1F-xnid"
      }
    },
    {
      "cell_type": "markdown",
      "source": [
        "For instance, we are setting the variable `x` to the value `7`."
      ],
      "metadata": {
        "id": "4AYTY3-zx46t"
      }
    },
    {
      "cell_type": "code",
      "execution_count": 1,
      "metadata": {
        "id": "8lS_maW9uIR6"
      },
      "outputs": [],
      "source": [
        "x = 7"
      ]
    },
    {
      "cell_type": "markdown",
      "source": [
        "Another example, we are assigning the value `'Vatsal'` to the variable `y`.\n",
        "\n"
      ],
      "metadata": {
        "id": "zEzjPkhxzI66"
      }
    },
    {
      "cell_type": "code",
      "source": [
        "y = 'Vatsal'"
      ],
      "metadata": {
        "id": "v7xG8tMtzaE7"
      },
      "execution_count": 2,
      "outputs": []
    },
    {
      "cell_type": "markdown",
      "source": [
        "Notice the difference in how a variable is assigned a number versus a string."
      ],
      "metadata": {
        "id": "1n1iq_T1zdSn"
      }
    }
  ]
}